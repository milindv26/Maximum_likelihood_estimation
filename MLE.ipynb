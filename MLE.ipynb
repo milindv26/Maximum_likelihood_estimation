{
 "cells": [
  {
   "cell_type": "markdown",
   "metadata": {},
   "source": [
    "# Maximum Likelihood Estimation\n",
    "\n",
    "**In this Jupyter notebook, we will do the maximum likelihood estimation of the parameters, mean and standard deviation, of the normal distribution.**\n",
    "\n",
    "## Likelihood Function\n",
    "\n",
    "**PDF of normal distribution is given as follows:**\n",
    "$$\n",
    "f_X(x)=\\frac{1}{\\sqrt{2\\pi\\sigma^2}}\\cdot e^{-\\frac{1}{2} (\\frac{x-\\mu}{\\sigma})^2},\n",
    "$$\n",
    "where $\\mu$ is mean and $\\sigma$ is standard deviation.\n",
    "\n",
    "Assuming we have a dataset comprising $n$ randomly selected observations from a normal distribution with a mean of 155 and a standard deviation of 7, independently and identically distributed (IID). The **likelihood function** corresponding to these $n$ observations is given as follows:\n",
    "$$\n",
    "\\begin{align*}\n",
    "    L(\\mu,\\sigma, x_1, x_2,\\cdots,x_{n})&=\\prod_{i=1}^{n}f_X(x_i)\\\\\n",
    "    &=\\prod_{i=1}^{n}\\frac{1}{\\sqrt{2\\pi\\sigma^2}}\\cdot e^{-\\frac{1}{2} (\\frac{x_i-\\mu}{\\sigma})^2}\\\\\n",
    "    &=\\Bigg(\\frac{1}{\\sqrt{2\\pi\\sigma^2}}\\Bigg)^n\\cdot e^{-\\frac{1}{2\\sigma^2} \\sum_{i=1}^{n} (x_i-\\mu)^2}.\\\\\n",
    "\\end{align*}\n",
    "$$\n",
    "\n",
    "## Log Likelihood Function\n",
    "Taking the log of Likelihood Function, we get\n",
    "$$\n",
    "\\begin{align*}\n",
    "    l(\\mu,\\sigma, x_1, x_2,\\cdots,x_{n})&=\\log{[L(\\mu,\\sigma, x_1, x_2,\\cdots,x_{n})]}\\\\\n",
    "    &=\\log{\\Bigg[\\Big(\\frac{1}{\\sqrt{2\\pi\\sigma^2}}\\Big)^n\\cdot e^{-\\frac{1}{2\\sigma^2} \\sum_{i=1}^{n} (x_i-\\mu)^2}\\Bigg]}\\\\\n",
    "    &=\\log{\\Bigg[\\Big(\\frac{1}{\\sqrt{2\\pi\\sigma^2}}\\Big)^n\\Bigg]}\\cdot \\log{\\Bigg[e^{-\\frac{1}{2\\sigma^2} \\sum_{i=1}^{n} (x_i-\\mu)^2}\\Bigg]}\\\\\n",
    "    &=-n\\log{(\\sqrt{2\\pi\\sigma^2})}-\\frac{1}{2\\sigma^2} \\sum_{i=1}^{n} (x_i-\\mu)^2\\\\\n",
    "\\end{align*}\n",
    "$$\n",
    "\n",
    "## Maximization Problem\n",
    "\n",
    "Now we have solve the following maximization problem\n",
    "$$\n",
    "\\argmax_{\\mu,\\sigma}\\{l(\\mu,\\sigma, x_1, x_2,\\cdots,x_{n})\\}.\n",
    "$$\n",
    "The above maximization problem is equivalent to\n",
    "$$\n",
    "\\argmin_{\\mu,\\sigma}\\{-l(\\mu,\\sigma, x_1, x_2,\\cdots,x_{n})\\},\n",
    "$$\n",
    "therefore we will solve\n",
    "$$\n",
    "\\begin{align*}\n",
    "    &\\argmin_{\\mu,\\sigma}\\{-(-n\\log{(\\sqrt{2\\pi\\sigma^2})}-\\frac{1}{2\\sigma^2} \\sum_{i=1}^{n} (x_i-\\mu)^2)\\}\\\\\n",
    "\\implies &\\argmin_{\\mu,\\sigma}\\{n\\log{(\\sqrt{2\\pi\\sigma^2})}+\\frac{1}{2\\sigma^2} \\sum_{i=1}^{n} (x_i-\\mu)^2\\}.\\\\\n",
    "\\end{align*}\n",
    "$$"
   ]
  },
  {
   "cell_type": "code",
   "execution_count": 1,
   "metadata": {},
   "outputs": [
    {
     "name": "stdout",
     "output_type": "stream",
     "text": [
      "Estimated Mean: 154.99808505357024\n",
      "Estimated Standard Deviation: 6.996996924429178\n",
      "Convergence Status: True\n",
      "Optimal Value of the Objective Function: 336441.9597128625\n"
     ]
    }
   ],
   "source": [
    "import numpy as np\n",
    "from scipy.optimize import minimize\n",
    "\n",
    "# Generate some example data\n",
    "np.random.seed(2609)\n",
    "data = np.random.normal(loc=155, scale=7, size=100000)\n",
    "\n",
    "# Define the likelihood function for a normal distribution\n",
    "def likelihood(params, data):\n",
    "    mean, std_dev = params\n",
    "    likelihood_values = np.log(np.sqrt(2*np.pi*(std_dev**2))) + (0.5*(((data - mean) / std_dev)**2))\n",
    "    return np.sum(likelihood_values)\n",
    "\n",
    "# Initial guess for the parameters\n",
    "initial_params = [0, 1]\n",
    "\n",
    "# Use scipy's minimize function to maximize the likelihood\n",
    "result = minimize(likelihood, initial_params, args=(data,))\n",
    "estimated_mean, estimated_std_dev = result.x\n",
    "\n",
    "# Print the results\n",
    "print(\"Estimated Mean:\", estimated_mean)\n",
    "print(\"Estimated Standard Deviation:\", estimated_std_dev)\n",
    "print(\"Convergence Status:\", result.success)\n",
    "print(\"Optimal Value of the Objective Function:\", result.fun)\n",
    "\n"
   ]
  }
 ],
 "metadata": {
  "kernelspec": {
   "display_name": "Data_Science",
   "language": "python",
   "name": "python3"
  },
  "language_info": {
   "codemirror_mode": {
    "name": "ipython",
    "version": 3
   },
   "file_extension": ".py",
   "mimetype": "text/x-python",
   "name": "python",
   "nbconvert_exporter": "python",
   "pygments_lexer": "ipython3",
   "version": "3.11.5"
  }
 },
 "nbformat": 4,
 "nbformat_minor": 2
}
